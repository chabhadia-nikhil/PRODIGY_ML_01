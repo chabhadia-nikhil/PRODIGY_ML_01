{
  "nbformat": 4,
  "nbformat_minor": 0,
  "metadata": {
    "colab": {
      "provenance": [],
      "mount_file_id": "10F731EkwdgXiMYUwj8gy6b3erWacwvP-",
      "authorship_tag": "ABX9TyNpGjuo9THhEpQE8q7O/GIa",
      "include_colab_link": true
    },
    "kernelspec": {
      "name": "python3",
      "display_name": "Python 3"
    },
    "language_info": {
      "name": "python"
    }
  },
  "cells": [
    {
      "cell_type": "markdown",
      "metadata": {
        "id": "view-in-github",
        "colab_type": "text"
      },
      "source": [
        "<a href=\"https://colab.research.google.com/github/chabhadia-nikhil/PRODIGY_ML_01/blob/main/linear_regression.ipynb\" target=\"_parent\"><img src=\"https://colab.research.google.com/assets/colab-badge.svg\" alt=\"Open In Colab\"/></a>"
      ]
    },
    {
      "cell_type": "code",
      "source": [
        "import numpy as np\n",
        "import pandas as pd\n",
        "import matplotlib.pyplot as plt\n",
        "from sklearn.linear_model import LinearRegression\n",
        "from sklearn.model_selection import train_test_split"
      ],
      "metadata": {
        "id": "nRq4nrEMxs9A"
      },
      "execution_count": null,
      "outputs": []
    },
    {
      "cell_type": "code",
      "execution_count": null,
      "metadata": {
        "id": "bZ_Wnpuuxn6x"
      },
      "outputs": [],
      "source": [
        "#Retreving test data and reading it\n",
        "data_path = \"/content/drive/MyDrive/prodigy_ml_linearreg/housing_price_dataset.csv\"\n",
        "data = pd.read_csv(data_path)"
      ]
    },
    {
      "cell_type": "code",
      "source": [
        "y = {\n",
        "    'price':data.Price\n",
        "}\n",
        "y = pd.DataFrame(y)"
      ],
      "metadata": {
        "id": "QhmW9Uj-9_wh"
      },
      "execution_count": null,
      "outputs": []
    },
    {
      "cell_type": "code",
      "source": [
        "#creating dummies of neighborhood\n",
        "dummies_Neighborhood = pd.get_dummies(data.Neighborhood)"
      ],
      "metadata": {
        "id": "6ymdFHe55FuB"
      },
      "execution_count": null,
      "outputs": []
    },
    {
      "cell_type": "code",
      "source": [
        "#creating new dataset\n",
        "new_data = data.drop(['YearBuilt','Neighborhood'],axis =1)\n",
        "new_data = pd.concat([new_data,dummies_Neighborhood],axis =1)"
      ],
      "metadata": {
        "id": "beCoNWnd9HPc"
      },
      "execution_count": null,
      "outputs": []
    },
    {
      "cell_type": "code",
      "source": [
        "#creatning traininng and testing datasets\n",
        "X_train,X_test,y_train,y_test = train_test_split(new_data,y.price,test_size=0.2)"
      ],
      "metadata": {
        "id": "QHyjkvwe9zLC"
      },
      "execution_count": null,
      "outputs": []
    },
    {
      "cell_type": "code",
      "source": [
        "test_area = X_test.SquareFeet"
      ],
      "metadata": {
        "id": "VeGd7UV-b6a8"
      },
      "execution_count": null,
      "outputs": []
    },
    {
      "cell_type": "code",
      "source": [
        "#Standarising data\n",
        "from sklearn.preprocessing import StandardScaler\n",
        "sc = StandardScaler()\n",
        "\n",
        "X_train = sc.fit_transform(X_train)\n",
        "X_test = sc.fit_transform(X_test)"
      ],
      "metadata": {
        "id": "SKhtkbZk9bpR"
      },
      "execution_count": null,
      "outputs": []
    },
    {
      "cell_type": "code",
      "source": [
        "#Training Model\n",
        "from sklearn.linear_model import LinearRegression\n",
        "lr = LinearRegression()\n",
        "trained = lr.fit(X_train,y_train)\n"
      ],
      "metadata": {
        "id": "3wcroXpH_ITL"
      },
      "execution_count": null,
      "outputs": []
    },
    {
      "cell_type": "code",
      "source": [
        "#Displaying Accuracy\n",
        "accuracy = lr.score(X_test,y_test)*100\n",
        "print(\"Accuracy Score \",accuracy)"
      ],
      "metadata": {
        "id": "wdHaaoBJAjit",
        "colab": {
          "base_uri": "https://localhost:8080/"
        },
        "outputId": "d3626ad5-0ec5-44cd-ad0f-2bc2bdf9b161"
      },
      "execution_count": null,
      "outputs": [
        {
          "output_type": "stream",
          "name": "stdout",
          "text": [
            "Accuracy Score  99.96897556599534\n"
          ]
        }
      ]
    },
    {
      "cell_type": "code",
      "source": [
        "#Predicted price\n",
        "saleprice_pred = trained.predict(X_test)\n",
        "saleprice_pred = pd.DataFrame({'Square feet':test_area,'Predicition': saleprice_pred})"
      ],
      "metadata": {
        "id": "leSfUNbOAdzV"
      },
      "execution_count": null,
      "outputs": []
    },
    {
      "cell_type": "code",
      "source": [
        "saleprice_pred"
      ],
      "metadata": {
        "id": "gtYCq01GbClP"
      },
      "execution_count": null,
      "outputs": []
    },
    {
      "cell_type": "markdown",
      "source": [
        "# PLots"
      ],
      "metadata": {
        "id": "VNGXOj-_U_8b"
      }
    },
    {
      "cell_type": "code",
      "source": [
        "figure , axes = plt.subplots(2,2,figsize=(12,10))\n",
        "axes[0,0].scatter(data.SquareFeet,data.Price, c = 'red')\n",
        "axes[0,0].set_title(\"Overall Data\")\n",
        "axes[0,0].set_xlabel(\"Square Feet\")\n",
        "axes[0,0].set_ylabel(\"Price\")\n",
        "\n",
        "axes[0,1].scatter(X_train[:,0],y_train, c = 'blue',marker = '+',label = \"Training set\")\n",
        "axes[0,1].scatter(X_test[:,0],y_test, c = 'orange',marker = '*',label = \"Testing set\")\n",
        "axes[0,1].set_title(\"Splitted Dataset\")\n",
        "axes[0,1].set_xlabel(\"Square Feet\")\n",
        "axes[0,1].set_ylabel(\"Price\")\n",
        "\n",
        "axes[1,0].scatter(X_train[:,0],y_train, c = 'blue',marker = '+',label = \"Training set\")\n",
        "axes[1,0].scatter(X_test[:,0],y_test, c = 'orange',marker = '*',label = \"Testing set\")\n",
        "axes[1,0].scatter(X_test[:,0],saleprice_pred.Predicition, c = 'green',marker = '^',edgecolor='black',label = \"Predicted set\")\n",
        "axes[1,0].set_title(\"With Predicited dataset\")\n",
        "axes[1,0].set_xlabel(\"Square Feet\")\n",
        "axes[1,0].set_ylabel(\"Price\")\n",
        "\n",
        "axes[1,1].scatter(data.SquareFeet,data.Price, c = 'red')\n",
        "axes[1,1].plot(test_area,saleprice_pred, c = 'green',label = \"Predicted line\")\n",
        "axes[1,1].set_title(\"Prediciton line\")\n",
        "axes[1,1].set_xlabel(\"Square Feet\")\n",
        "axes[1,1].set_ylabel(\"Price\")"
      ],
      "metadata": {
        "id": "s9gQXLBmVDvt"
      },
      "execution_count": null,
      "outputs": []
    }
  ]
}